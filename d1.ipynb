{
 "cells": [
  {
   "cell_type": "markdown",
   "metadata": {},
   "source": [
    "# print statment in python\n"
   ]
  },
  {
   "cell_type": "code",
   "execution_count": 5,
   "metadata": {},
   "outputs": [
    {
     "name": "stdout",
     "output_type": "stream",
     "text": [
      "hello \n"
     ]
    }
   ],
   "source": [
    "print(\"hello \")\n"
   ]
  },
  {
   "cell_type": "markdown",
   "metadata": {},
   "source": [
    "# variables and types \n"
   ]
  },
  {
   "cell_type": "code",
   "execution_count": 4,
   "metadata": {},
   "outputs": [
    {
     "name": "stdout",
     "output_type": "stream",
     "text": [
      "10\n"
     ]
    }
   ],
   "source": [
    "myint =10\n",
    "print(myint)\n",
    "\n"
   ]
  },
  {
   "cell_type": "markdown",
   "metadata": {},
   "source": [
    "# strings\n"
   ]
  },
  {
   "cell_type": "code",
   "execution_count": 14,
   "metadata": {},
   "outputs": [
    {
     "name": "stdout",
     "output_type": "stream",
     "text": [
      "k xa\n",
      "thik xa\n",
      "3\n",
      "hy group c\n"
     ]
    }
   ],
   "source": [
    "mystring = \"k xa\"\n",
    "print (mystring)\n",
    "mystring = 'thik xa'\n",
    "print (mystring)\n",
    "#single or double can defined by both in string  \n",
    "\n",
    "one=1\n",
    "two =2 \n",
    "three = one + two\n",
    "print (three)\n",
    "\n",
    "hello =\"hy\"\n",
    "world = \"group c\"\n",
    "helloworld = hello+ \" \"+ world\n",
    "print(helloworld)\n",
    " # can executed on num and string but mixing is not supported  \n",
    "    \n",
    "   "
   ]
  },
  {
   "cell_type": "markdown",
   "metadata": {},
   "source": [
    "# Lists"
   ]
  },
  {
   "cell_type": "code",
   "execution_count": null,
   "metadata": {},
   "outputs": [],
   "source": []
  },
  {
   "cell_type": "markdown",
   "metadata": {},
   "source": [
    "# Arithmetic operators"
   ]
  },
  {
   "cell_type": "code",
   "execution_count": 29,
   "metadata": {},
   "outputs": [
    {
     "name": "stdout",
     "output_type": "stream",
     "text": [
      "8.5\n",
      "3\n",
      "4\n",
      "8\n",
      "hello world\n",
      "[1, 2, 3, 1, 2, 3, 1, 2, 3]\n",
      "[1, 3, 5, 7, 2, 4, 6, 8]\n"
     ]
    }
   ],
   "source": [
    "number = 1 + 5*9 /6\n",
    "print(number)\n",
    "\n",
    "remainder= 11 % 8\n",
    "print(remainder)\n",
    "\n",
    "squared = 2 ** 2  #two multiplication makes a power relation \n",
    "print(squared)\n",
    "cubed = 2**3\n",
    "print (cubed)\n",
    "\n",
    "helloworld = \"hello\"+ \" \"+\"world\" #string using add operetors \n",
    "print(helloworld)\n",
    " \n",
    "print([1,2,3]*3) #new list with repeating sequence \n",
    "\n",
    "even_numbers = [2,4,6,8]  #operator in list\n",
    "odd_numbers = [1,3,5,7]\n",
    "all_numbers = odd_numbers + even_numbers\n",
    "print(all_numbers)                \n"
   ]
  },
  {
   "cell_type": "code",
   "execution_count": null,
   "metadata": {},
   "outputs": [],
   "source": []
  },
  {
   "cell_type": "code",
   "execution_count": null,
   "metadata": {},
   "outputs": [],
   "source": []
  },
  {
   "cell_type": "code",
   "execution_count": null,
   "metadata": {},
   "outputs": [],
   "source": []
  }
 ],
 "metadata": {
  "kernelspec": {
   "display_name": "Python 3",
   "language": "python",
   "name": "python3"
  },
  "language_info": {
   "codemirror_mode": {
    "name": "ipython",
    "version": 3
   },
   "file_extension": ".py",
   "mimetype": "text/x-python",
   "name": "python",
   "nbconvert_exporter": "python",
   "pygments_lexer": "ipython3",
   "version": "3.7.3"
  }
 },
 "nbformat": 4,
 "nbformat_minor": 2
}
