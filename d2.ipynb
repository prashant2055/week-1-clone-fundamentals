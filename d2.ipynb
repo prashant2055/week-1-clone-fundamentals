{
 "cells": [
  {
   "cell_type": "markdown",
   "metadata": {},
   "source": [
    "STRING FORMATTING"
   ]
  },
  {
   "cell_type": "code",
   "execution_count": 8,
   "metadata": {},
   "outputs": [
    {
     "name": "stdout",
     "output_type": "stream",
     "text": [
      "hy dd\n",
      "biplov is 16 years old \n",
      " list [1, 2, 7]\n",
      "biplov joshi your blns is $1\n"
     ]
    }
   ],
   "source": [
    "name= \"dd\"\n",
    "print(\"hy %s\" %name) # %s for string \n",
    "                      # %d for integer \n",
    "                       # %f for floating point numbers \n",
    "\n",
    "name = \"biplov\"\n",
    "age= 16\n",
    "print (\"%s is %d years old \" %(name , age)) \n",
    "\n",
    "list = [ 1,2,7]\n",
    "print(\" list %s\" %list)\n",
    "\n",
    "data = (\"biplov\", \"joshi\" , 1)\n",
    "format_string = \"%s %s your blns is $%s\"\n",
    "print(format_string %data)"
   ]
  },
  {
   "cell_type": "markdown",
   "metadata": {},
   "source": [
    "BASIC STRING OPERATION"
   ]
  },
  {
   "cell_type": "code",
   "execution_count": 27,
   "metadata": {},
   "outputs": [
    {
     "name": "stdout",
     "output_type": "stream",
     "text": [
      "11\n",
      "2\n",
      "2\n",
      "shant n\n",
      "satn\n",
      "shant n\n",
      "tnahsarp\n",
      "prashant\n",
      "PRASHANT\n",
      "False\n",
      "True\n",
      "['pra', 'hant']\n"
     ]
    }
   ],
   "source": [
    "astring = \"how are you\" #len= count the length\n",
    "print (len(astring))\n",
    "\n",
    "astring = \"prashant\"\n",
    "print (astring.index (\"a\")) #.index print the location of a  \n",
    "                              # this method print the first recognizes  \n",
    "                              # and start from 0 and space is also character\n",
    "        \n",
    "astring = \"prashant\"\n",
    "print(astring.count(\"a\")) #.count counts a's on string\n",
    "\n",
    "astring = \"prashant neupane\"\n",
    "print (astring[3:10])          #print on starting from 3rd position and end on 9th position\n",
    "\n",
    "astring = \"prashant neupane\"\n",
    "print (astring[3:10:2])# this print character of strint from 3 to 10 skipping 1 character  syntax=[start:stop:step]\n",
    "print (astring[3:10:1]) # this print same as [3:10]\n",
    "  \n",
    "astring = \"prashant\"\n",
    "print(astring[::-1]) # reverse a string \n",
    "\n",
    "astrint =\"prashant\"\n",
    "print(astring.lower()) # print in lower letter \n",
    "print(astring.upper()) #in uper letter\n",
    "\n",
    "astring = \"prashant*\"\n",
    "print(astring.startswith(\" \"))   # determine wheather the srtring or end with something respectively \n",
    "print(astring.endswith(\"*\"))\n",
    "\n",
    "\n",
    "astring =\"prashant\"  #split from s\n",
    "print(astring.split(\"s\"))"
   ]
  },
  {
   "cell_type": "markdown",
   "metadata": {},
   "source": [
    "conditions\n"
   ]
  },
  {
   "cell_type": "code",
   "execution_count": 25,
   "metadata": {},
   "outputs": [
    {
     "name": "stdout",
     "output_type": "stream",
     "text": [
      "True\n",
      "False\n",
      "True\n",
      "my name is prashant , and age is 16 \n",
      "my name is either prashant or biplov.\n"
     ]
    }
   ],
   "source": [
    "x= 2  \n",
    "print (x==2)   #expression is compared and return true or flase\n",
    "print (x==3)\n",
    "print (x<4)\n",
    "\n",
    "name = \"prashant\"\n",
    "age = 16\n",
    "if name ==\"prashant\" and age is 16:\n",
    "    print (\"my name is prashant , and age is 16 \")\n",
    "\n",
    "if name == \"prashant\" or name  ==\"biplov\":\n",
    "    print(\"my name is either prashant or biplov.\")\n",
    "    \n",
    "    \n",
    "    \n",
    "\n"
   ]
  },
  {
   "cell_type": "code",
   "execution_count": null,
   "metadata": {},
   "outputs": [],
   "source": []
  },
  {
   "cell_type": "code",
   "execution_count": null,
   "metadata": {},
   "outputs": [],
   "source": []
  },
  {
   "cell_type": "code",
   "execution_count": null,
   "metadata": {},
   "outputs": [],
   "source": []
  },
  {
   "cell_type": "code",
   "execution_count": null,
   "metadata": {},
   "outputs": [],
   "source": []
  },
  {
   "cell_type": "code",
   "execution_count": null,
   "metadata": {},
   "outputs": [],
   "source": []
  }
 ],
 "metadata": {
  "kernelspec": {
   "display_name": "Python 3",
   "language": "python",
   "name": "python3"
  },
  "language_info": {
   "codemirror_mode": {
    "name": "ipython",
    "version": 3
   },
   "file_extension": ".py",
   "mimetype": "text/x-python",
   "name": "python",
   "nbconvert_exporter": "python",
   "pygments_lexer": "ipython3",
   "version": "3.7.3"
  }
 },
 "nbformat": 4,
 "nbformat_minor": 2
}
