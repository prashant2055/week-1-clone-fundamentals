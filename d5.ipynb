{
 "cells": [
  {
   "cell_type": "code",
   "execution_count": null,
   "metadata": {},
   "outputs": [],
   "source": []
  },
  {
   "cell_type": "markdown",
   "metadata": {},
   "source": [
    "DICTIONARIES"
   ]
  },
  {
   "cell_type": "code",
   "execution_count": 5,
   "metadata": {},
   "outputs": [
    {
     "name": "stdout",
     "output_type": "stream",
     "text": [
      "{'prashant': 9867339044, 'uday': 9858953670, 'biplov': 9803467861}\n",
      "{'prashant': 9867339044, 'uday': 9858953670, 'biplov': 9803467861}\n",
      "Phone number of prashant is 9867339044\n",
      "Phone number of uday is 9858953670\n",
      "Phone number of biplov is 9803467861\n",
      "{'uday': 9858953670, 'biplov': 9803467861}\n"
     ]
    }
   ],
   "source": [
    "phonebook = {}\n",
    "phonebook[\"prashant\"] = 9867339044   # database of phone numbers stored using a dictionary and asses using key\n",
    "phonebook[\"uday\"] = 9858953670             \n",
    "phonebook[\"biplov\"] = 9803467861\n",
    "print(phonebook)\n",
    "\n",
    "\n",
    "phonebook = {\n",
    "    \"prashant\" : 9867339044,\n",
    "    \"uday\" : 9858953670 ,    #Alternatively as above \n",
    "    \"biplov\" : 9803467861,\n",
    "}\n",
    "print(phonebook)\n",
    "\n",
    "\n",
    "phonebook = {\"prashant\" : 9867339044,\"uday\" : 9858953670,\"biplov\" : 9803467861}\n",
    "for name, number in phonebook.items():           #iterated  just like list\n",
    "    print(\"Phone number of %s is %d\" % (name, number))\n",
    "    \n",
    "    \n",
    "phonebook = {\n",
    "   \"prashant\" : 9867339044,\n",
    "   \"uday\" : 9858953670,        \n",
    "   \"biplov\" : 9803467861\n",
    "}\n",
    "del phonebook[\"prashant\"]    #removing a value   or we can use phonebook.pop(\"prashant\")\n",
    "print(phonebook)\n",
    "\n"
   ]
  },
  {
   "cell_type": "code",
   "execution_count": null,
   "metadata": {},
   "outputs": [],
   "source": []
  }
 ],
 "metadata": {
  "kernelspec": {
   "display_name": "Python 3",
   "language": "python",
   "name": "python3"
  },
  "language_info": {
   "codemirror_mode": {
    "name": "ipython",
    "version": 3
   },
   "file_extension": ".py",
   "mimetype": "text/x-python",
   "name": "python",
   "nbconvert_exporter": "python",
   "pygments_lexer": "ipython3",
   "version": "3.7.3"
  }
 },
 "nbformat": 4,
 "nbformat_minor": 2
}
